{
 "cells": [
  {
   "cell_type": "markdown",
   "metadata": {},
   "source": [
    "# SQL Notes"
   ]
  },
  {
   "cell_type": "markdown",
   "metadata": {},
   "source": [
    "SELECT year,\n",
    "       month,\n",
    "       west\n",
    "  FROM tutorial.us_housing_units"
   ]
  },
  {
   "cell_type": "markdown",
   "metadata": {},
   "source": [
    "### Change the title of a column in a table, must be in double quotes"
   ]
  },
  {
   "cell_type": "code",
   "execution_count": null,
   "metadata": {
    "collapsed": true
   },
   "outputs": [],
   "source": [
    "SELECT west AS \"West Region\"\n",
    "  FROM tutorial.us_housing_units"
   ]
  },
  {
   "cell_type": "markdown",
   "metadata": {},
   "source": [
    "### Limit the rows returned using LIMIT"
   ]
  },
  {
   "cell_type": "code",
   "execution_count": null,
   "metadata": {
    "collapsed": true
   },
   "outputs": [],
   "source": [
    "SELECT *\n",
    "  FROM tutorial.us_housing_units\n",
    " LIMIT 100"
   ]
  },
  {
   "cell_type": "markdown",
   "metadata": {},
   "source": [
    "### Filtering using WHERE and a column name. Relationships between values in a row will be preserved (rows will be cut if they don't fit the WHERE criteria)."
   ]
  },
  {
   "cell_type": "code",
   "execution_count": null,
   "metadata": {
    "collapsed": true
   },
   "outputs": [],
   "source": [
    "SELECT *\n",
    "  FROM tutorial.us_housing_units\n",
    " WHERE month = 1"
   ]
  },
  {
   "cell_type": "code",
   "execution_count": null,
   "metadata": {
    "collapsed": true
   },
   "outputs": [],
   "source": [
    "Equal to\t=\n",
    "Not equal to\t<> or !=\n",
    "Greater than\t>\n",
    "Less than\t<\n",
    "Greater than or equal to\t>=\n",
    "Less than or equal to\t<="
   ]
  },
  {
   "cell_type": "code",
   "execution_count": null,
   "metadata": {
    "collapsed": true
   },
   "outputs": [],
   "source": [
    "SELECT *\n",
    "  FROM tutorial.us_housing_units\n",
    " WHERE west > 30"
   ]
  },
  {
   "cell_type": "markdown",
   "metadata": {},
   "source": [
    "### If using an operator with values that are non-numeric use single quotes. Single quotes reference column values.\n"
   ]
  },
  {
   "cell_type": "code",
   "execution_count": null,
   "metadata": {
    "collapsed": true
   },
   "outputs": [],
   "source": [
    "SELECT *\n",
    "  FROM tutorial.us_housing_units\n",
    " WHERE month_name != 'January'"
   ]
  },
  {
   "cell_type": "markdown",
   "metadata": {},
   "source": [
    "### Numerical operators such as the below only work across columns"
   ]
  },
  {
   "cell_type": "code",
   "execution_count": null,
   "metadata": {
    "collapsed": true
   },
   "outputs": [],
   "source": [
    "SELECT year,\n",
    "       month,\n",
    "       west,\n",
    "       south,\n",
    "       west + south AS south_plus_west\n",
    "  FROM tutorial.us_housing_units"
   ]
  },
  {
   "cell_type": "code",
   "execution_count": null,
   "metadata": {
    "collapsed": true
   },
   "outputs": [],
   "source": [
    "SELECT year,\n",
    "       month,\n",
    "       west,\n",
    "       south,\n",
    "       (west + south)/2 AS south_west_avg\n",
    "  FROM tutorial.us_housing_units"
   ]
  },
  {
   "cell_type": "code",
   "execution_count": null,
   "metadata": {
    "collapsed": true
   },
   "outputs": [],
   "source": [
    "SELECT year,\n",
    "       month,\n",
    "       west,\n",
    "       south,\n",
    "       midwest,\n",
    "       northeast,\n",
    "       west + south + midwest +northeast AS usa_total\n",
    "  FROM tutorial.us_housing_units"
   ]
  },
  {
   "cell_type": "code",
   "execution_count": null,
   "metadata": {
    "collapsed": true
   },
   "outputs": [],
   "source": [
    "SELECT (south / (south + west + midwest + northeast)) * 100 AS \"South Average\",\n",
    "       (west / (south + west + midwest + northeast)) * 100 AS \"West Average\",\n",
    "       (midwest / (south + west + midwest + northeast)) * 100 AS \"Midwest Average\",\n",
    "       (northeast / (south + west + midwest + northeast)) * 100 AS \"Northeast Average\"\n",
    "  FROM tutorial.us_housing_units\n",
    "  WHERE year >= 2000"
   ]
  },
  {
   "cell_type": "code",
   "execution_count": null,
   "metadata": {
    "collapsed": true
   },
   "outputs": [],
   "source": [
    "\n",
    "    LIKE allows you to match similar values, instead of exact values.\n",
    "    \n",
    "    IN allows you to specify a list of values you’d like to include.\n",
    "    \n",
    "    BETWEEN allows you to select only rows within a certain range.\n",
    "    \n",
    "    IS NULL allows you to select rows that contain no data in a given column.\n",
    "    \n",
    "    AND allows you to select only rows that satisfy two conditions.\n",
    "    \n",
    "    OR allows you to select rows that satisfy either of two conditions.\n",
    "    \n",
    "    NOT allows you to select rows that do not match a certain condition.\n"
   ]
  },
  {
   "cell_type": "markdown",
   "metadata": {},
   "source": [
    "### include rows for which \"group\" starts with “Snoop” and is followed by any number and selection of characters."
   ]
  },
  {
   "cell_type": "code",
   "execution_count": null,
   "metadata": {
    "collapsed": true
   },
   "outputs": [],
   "source": [
    "SELECT *\n",
    "  FROM tutorial.billboard_top_100_year_end\n",
    " WHERE \"group\" LIKE 'Snoop%'"
   ]
  },
  {
   "cell_type": "markdown",
   "metadata": {},
   "source": [
    "Note: \"group\" appears in quotations above because GROUP is actually the name of a function in SQL. The double quotes (as opposed to single: ') are a way of indicating that you are referring to the column name \"group\", not the SQL function. In general, putting double quotes around a word or phrase will indicate that you are referring to that column name."
   ]
  },
  {
   "cell_type": "markdown",
   "metadata": {},
   "source": [
    "To ignore case when you’re matching values, you can use the ILIKE command:"
   ]
  },
  {
   "cell_type": "code",
   "execution_count": null,
   "metadata": {
    "collapsed": true
   },
   "outputs": [],
   "source": [
    "SELECT *\n",
    "  FROM tutorial.billboard_top_100_year_end\n",
    " WHERE \"group\" ILIKE 'snoop%'"
   ]
  },
  {
   "cell_type": "code",
   "execution_count": null,
   "metadata": {
    "collapsed": true
   },
   "outputs": [],
   "source": [
    "SELECT *\n",
    "  FROM tutorial.billboard_top_100_year_end\n",
    " WHERE artist ILIKE 'dr_ke'"
   ]
  },
  {
   "cell_type": "code",
   "execution_count": null,
   "metadata": {
    "collapsed": true
   },
   "outputs": [],
   "source": [
    "SELECT *\n",
    "  FROM tutorial.billboard_top_100_year_end\n",
    " WHERE \"group\" ILIKE '%Ludacris%'"
   ]
  },
  {
   "cell_type": "markdown",
   "metadata": {},
   "source": [
    "### IN"
   ]
  },
  {
   "cell_type": "code",
   "execution_count": null,
   "metadata": {
    "collapsed": true
   },
   "outputs": [],
   "source": [
    "SELECT *\n",
    "  FROM tutorial.billboard_top_100_year_end\n",
    " WHERE year_rank IN (1, 2, 3)"
   ]
  },
  {
   "cell_type": "code",
   "execution_count": null,
   "metadata": {
    "collapsed": true
   },
   "outputs": [],
   "source": [
    "SELECT *\n",
    "  FROM tutorial.billboard_top_100_year_end\n",
    " WHERE artist IN ('Taylor Swift', 'Usher', 'Ludacris')"
   ]
  },
  {
   "cell_type": "code",
   "execution_count": null,
   "metadata": {
    "collapsed": true
   },
   "outputs": [],
   "source": [
    "SELECT *\n",
    "  FROM tutorial.billboard_top_100_year_end\n",
    " WHERE artist IN ('Hammer', 'M.C. Hammer', 'Elvis Presley')"
   ]
  },
  {
   "cell_type": "markdown",
   "metadata": {},
   "source": [
    "### Between"
   ]
  },
  {
   "cell_type": "markdown",
   "metadata": {},
   "source": [
    "BETWEEN is a logical operator in SQL that allows you to select only rows that are within a specific range. It has to be paired with the AND operator, which you’ll learn about in a later lesson. Here’s what BETWEEN looks like on a Billboard Music Charts dataset:"
   ]
  },
  {
   "cell_type": "code",
   "execution_count": null,
   "metadata": {
    "collapsed": true
   },
   "outputs": [],
   "source": [
    "SELECT *\n",
    "  FROM tutorial.billboard_top_100_year_end\n",
    " WHERE year_rank BETWEEN 5 AND 10"
   ]
  },
  {
   "cell_type": "markdown",
   "metadata": {},
   "source": [
    "BETWEEN includes the range bounds (in this case, 5 and 10) that you specify in the query, in addition to the values between them."
   ]
  },
  {
   "cell_type": "markdown",
   "metadata": {},
   "source": [
    "You can select rows that contain no data in a given column by using \n",
    "### IS NULL. \n"
   ]
  },
  {
   "cell_type": "code",
   "execution_count": null,
   "metadata": {
    "collapsed": true
   },
   "outputs": [],
   "source": [
    "SELECT *\n",
    "  FROM tutorial.billboard_top_100_year_end\n",
    " WHERE song_name IS NULL"
   ]
  },
  {
   "cell_type": "markdown",
   "metadata": {},
   "source": [
    "### AND is a logical operator in SQL that allows you to select only rows that satisfy two conditions."
   ]
  },
  {
   "cell_type": "code",
   "execution_count": null,
   "metadata": {
    "collapsed": true
   },
   "outputs": [],
   "source": [
    "SELECT *\n",
    "  FROM tutorial.billboard_top_100_year_end\n",
    " WHERE year = 2012 AND year_rank <= 10"
   ]
  },
  {
   "cell_type": "code",
   "execution_count": null,
   "metadata": {
    "collapsed": true
   },
   "outputs": [],
   "source": [
    "SELECT *\n",
    "  FROM tutorial.billboard_top_100_year_end\n",
    " WHERE year = 2012\n",
    "   AND year_rank <= 10\n",
    "   AND \"group\" ILIKE '%feat%'"
   ]
  },
  {
   "cell_type": "code",
   "execution_count": null,
   "metadata": {
    "collapsed": true
   },
   "outputs": [],
   "source": [
    "SELECT *\n",
    "  FROM tutorial.billboard_top_100_year_end\n",
    " WHERE \"group\" ILIKE '%Ludacris%'\n",
    "   AND year_rank <= 10\n",
    "   "
   ]
  },
  {
   "cell_type": "code",
   "execution_count": null,
   "metadata": {
    "collapsed": true
   },
   "outputs": [],
   "source": [
    "SELECT *\n",
    "  FROM tutorial.billboard_top_100_year_end\n",
    " WHERE year_rank = 1\n",
    "   AND year IN (1990, 2000, 2010)"
   ]
  },
  {
   "cell_type": "code",
   "execution_count": null,
   "metadata": {
    "collapsed": true
   },
   "outputs": [],
   "source": [
    "SELECT *\n",
    "  FROM tutorial.billboard_top_100_year_end\n",
    " WHERE year BETWEEN 1960 AND 1969\n",
    " AND song_name ILIKE '%love%'\n",
    "   "
   ]
  },
  {
   "cell_type": "markdown",
   "metadata": {},
   "source": [
    "### OR is a logical operator in SQL that allows you to select rows that satisfy either of two conditions"
   ]
  },
  {
   "cell_type": "code",
   "execution_count": null,
   "metadata": {
    "collapsed": true
   },
   "outputs": [],
   "source": [
    "SELECT *\n",
    "  FROM tutorial.billboard_top_100_year_end\n",
    " WHERE year_rank = 5 OR artist = 'Gotye'"
   ]
  },
  {
   "cell_type": "code",
   "execution_count": null,
   "metadata": {
    "collapsed": true
   },
   "outputs": [],
   "source": [
    "SELECT *\n",
    "  FROM tutorial.billboard_top_100_year_end\n",
    " WHERE year = 2013\n",
    "   AND (\"group\" ILIKE '%macklemore%' OR \"group\" ILIKE '%timberlake%')"
   ]
  },
  {
   "cell_type": "markdown",
   "metadata": {},
   "source": [
    "### NOT is a logical operator in SQL that you can put before any conditional statement to select rows for which that statement is false."
   ]
  },
  {
   "cell_type": "code",
   "execution_count": null,
   "metadata": {
    "collapsed": true
   },
   "outputs": [],
   "source": [
    "SELECT *\n",
    "  FROM tutorial.billboard_top_100_year_end\n",
    " WHERE year = 2013\n",
    "   AND year_rank NOT BETWEEN 2 AND 3"
   ]
  },
  {
   "cell_type": "code",
   "execution_count": null,
   "metadata": {
    "collapsed": true
   },
   "outputs": [],
   "source": [
    "SELECT *\n",
    "  FROM tutorial.billboard_top_100_year_end\n",
    " WHERE year = 2013\n",
    "   AND \"group\" NOT ILIKE '%macklemore%'"
   ]
  },
  {
   "cell_type": "markdown",
   "metadata": {},
   "source": [
    "### NOT is also frequently used to identify non-null rows, but the syntax is somewhat special—you need to include IS beforehand. Here’s how that looks:"
   ]
  },
  {
   "cell_type": "code",
   "execution_count": null,
   "metadata": {
    "collapsed": true
   },
   "outputs": [],
   "source": [
    "SELECT *\n",
    "  FROM tutorial.billboard_top_100_year_end\n",
    " WHERE year = 2013\n",
    "   AND artist IS NOT NULL"
   ]
  },
  {
   "cell_type": "markdown",
   "metadata": {},
   "source": [
    "### The ORDER BY clause allows you to reorder your results based on the data in one or more columns. First, take a look at how the table is ordered by default:"
   ]
  },
  {
   "cell_type": "code",
   "execution_count": null,
   "metadata": {
    "collapsed": true
   },
   "outputs": [],
   "source": [
    "SELECT *\n",
    "  FROM tutorial.billboard_top_100_year_end\n",
    " ORDER BY artist"
   ]
  },
  {
   "cell_type": "code",
   "execution_count": null,
   "metadata": {
    "collapsed": true
   },
   "outputs": [],
   "source": [
    "SELECT *\n",
    "  FROM tutorial.billboard_top_100_year_end\n",
    " WHERE year = 2013\n",
    " ORDER BY year_rank"
   ]
  },
  {
   "cell_type": "code",
   "execution_count": null,
   "metadata": {
    "collapsed": true
   },
   "outputs": [],
   "source": [
    "SELECT *\n",
    "  FROM tutorial.billboard_top_100_year_end\n",
    " WHERE year = 2013\n",
    " ORDER BY year_rank DESC"
   ]
  }
 ],
 "metadata": {
  "kernelspec": {
   "display_name": "Python [conda env:py35]",
   "language": "python",
   "name": "conda-env-py35-py"
  },
  "language_info": {
   "codemirror_mode": {
    "name": "ipython",
    "version": 3
   },
   "file_extension": ".py",
   "mimetype": "text/x-python",
   "name": "python",
   "nbconvert_exporter": "python",
   "pygments_lexer": "ipython3",
   "version": "3.5.2"
  }
 },
 "nbformat": 4,
 "nbformat_minor": 1
}
