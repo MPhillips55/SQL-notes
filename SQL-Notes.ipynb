{
 "cells": [
  {
   "cell_type": "markdown",
   "metadata": {},
   "source": [
    "# SQL Notes"
   ]
  },
  {
   "cell_type": "markdown",
   "metadata": {},
   "source": [
    "SELECT year,\n",
    "       month,\n",
    "       west\n",
    "  FROM tutorial.us_housing_units"
   ]
  },
  {
   "cell_type": "markdown",
   "metadata": {},
   "source": [
    "### Change the title of a column in a table, must be in double quotes"
   ]
  },
  {
   "cell_type": "code",
   "execution_count": null,
   "metadata": {
    "collapsed": true
   },
   "outputs": [],
   "source": [
    "SELECT west AS \"West Region\"\n",
    "  FROM tutorial.us_housing_units"
   ]
  },
  {
   "cell_type": "markdown",
   "metadata": {},
   "source": [
    "### Limit the rows returned using LIMIT"
   ]
  },
  {
   "cell_type": "code",
   "execution_count": null,
   "metadata": {
    "collapsed": true
   },
   "outputs": [],
   "source": [
    "SELECT *\n",
    "  FROM tutorial.us_housing_units\n",
    " LIMIT 100"
   ]
  },
  {
   "cell_type": "markdown",
   "metadata": {},
   "source": [
    "### Filtering using WHERE and a column name. Relationships between values in a row will be preserved (rows will be cut if they don't fit the WHERE criteria)."
   ]
  },
  {
   "cell_type": "code",
   "execution_count": null,
   "metadata": {
    "collapsed": true
   },
   "outputs": [],
   "source": [
    "SELECT *\n",
    "  FROM tutorial.us_housing_units\n",
    " WHERE month = 1"
   ]
  },
  {
   "cell_type": "code",
   "execution_count": null,
   "metadata": {
    "collapsed": true
   },
   "outputs": [],
   "source": [
    "Equal to\t=\n",
    "Not equal to\t<> or !=\n",
    "Greater than\t>\n",
    "Less than\t<\n",
    "Greater than or equal to\t>=\n",
    "Less than or equal to\t<="
   ]
  },
  {
   "cell_type": "code",
   "execution_count": null,
   "metadata": {
    "collapsed": true
   },
   "outputs": [],
   "source": [
    "SELECT *\n",
    "  FROM tutorial.us_housing_units\n",
    " WHERE west > 30"
   ]
  },
  {
   "cell_type": "markdown",
   "metadata": {},
   "source": [
    "### If using an operator with values that are non-numeric use single quotes. Single quotes reference column values.\n"
   ]
  },
  {
   "cell_type": "code",
   "execution_count": null,
   "metadata": {
    "collapsed": true
   },
   "outputs": [],
   "source": [
    "SELECT *\n",
    "  FROM tutorial.us_housing_units\n",
    " WHERE month_name != 'January'"
   ]
  },
  {
   "cell_type": "markdown",
   "metadata": {},
   "source": [
    "### Numerical operators such as the below only work across columns"
   ]
  },
  {
   "cell_type": "code",
   "execution_count": null,
   "metadata": {
    "collapsed": true
   },
   "outputs": [],
   "source": [
    "SELECT year,\n",
    "       month,\n",
    "       west,\n",
    "       south,\n",
    "       west + south AS south_plus_west\n",
    "  FROM tutorial.us_housing_units"
   ]
  },
  {
   "cell_type": "code",
   "execution_count": null,
   "metadata": {
    "collapsed": true
   },
   "outputs": [],
   "source": [
    "SELECT year,\n",
    "       month,\n",
    "       west,\n",
    "       south,\n",
    "       (west + south)/2 AS south_west_avg\n",
    "  FROM tutorial.us_housing_units"
   ]
  },
  {
   "cell_type": "code",
   "execution_count": null,
   "metadata": {
    "collapsed": true
   },
   "outputs": [],
   "source": [
    "SELECT year,\n",
    "       month,\n",
    "       west,\n",
    "       south,\n",
    "       midwest,\n",
    "       northeast,\n",
    "       west + south + midwest +northeast AS usa_total\n",
    "  FROM tutorial.us_housing_units"
   ]
  },
  {
   "cell_type": "code",
   "execution_count": null,
   "metadata": {
    "collapsed": true
   },
   "outputs": [],
   "source": [
    "SELECT (south / (south + west + midwest + northeast)) * 100 AS \"South Average\",\n",
    "       (west / (south + west + midwest + northeast)) * 100 AS \"West Average\",\n",
    "       (midwest / (south + west + midwest + northeast)) * 100 AS \"Midwest Average\",\n",
    "       (northeast / (south + west + midwest + northeast)) * 100 AS \"Northeast Average\"\n",
    "  FROM tutorial.us_housing_units\n",
    "  WHERE year >= 2000"
   ]
  },
  {
   "cell_type": "code",
   "execution_count": null,
   "metadata": {
    "collapsed": true
   },
   "outputs": [],
   "source": [
    "\n",
    "    LIKE allows you to match similar values, instead of exact values.\n",
    "    \n",
    "    IN allows you to specify a list of values you’d like to include.\n",
    "    \n",
    "    BETWEEN allows you to select only rows within a certain range.\n",
    "    \n",
    "    IS NULL allows you to select rows that contain no data in a given column.\n",
    "    \n",
    "    AND allows you to select only rows that satisfy two conditions.\n",
    "    \n",
    "    OR allows you to select rows that satisfy either of two conditions.\n",
    "    \n",
    "    NOT allows you to select rows that do not match a certain condition.\n"
   ]
  },
  {
   "cell_type": "markdown",
   "metadata": {},
   "source": [
    "### include rows for which \"group\" starts with “Snoop” and is followed by any number and selection of characters."
   ]
  },
  {
   "cell_type": "code",
   "execution_count": null,
   "metadata": {
    "collapsed": true
   },
   "outputs": [],
   "source": [
    "SELECT *\n",
    "  FROM tutorial.billboard_top_100_year_end\n",
    " WHERE \"group\" LIKE 'Snoop%'"
   ]
  },
  {
   "cell_type": "markdown",
   "metadata": {},
   "source": [
    "### Note: \"group\" appears in quotations above because GROUP is actually the name of a function in SQL. The double quotes (as opposed to single: ') are a way of indicating that you are referring to the column name \"group\", not the SQL function. In general, putting double quotes around a word or phrase will indicate that you are referring to that column name."
   ]
  },
  {
   "cell_type": "markdown",
   "metadata": {},
   "source": [
    "### To ignore case when you’re matching values, you can use the ILIKE command:"
   ]
  },
  {
   "cell_type": "code",
   "execution_count": null,
   "metadata": {
    "collapsed": true
   },
   "outputs": [],
   "source": [
    "SELECT *\n",
    "  FROM tutorial.billboard_top_100_year_end\n",
    " WHERE \"group\" ILIKE 'snoop%'"
   ]
  },
  {
   "cell_type": "code",
   "execution_count": null,
   "metadata": {
    "collapsed": true
   },
   "outputs": [],
   "source": [
    "SELECT *\n",
    "  FROM tutorial.billboard_top_100_year_end\n",
    " WHERE artist ILIKE 'dr_ke'"
   ]
  },
  {
   "cell_type": "code",
   "execution_count": null,
   "metadata": {
    "collapsed": true
   },
   "outputs": [],
   "source": [
    "SELECT *\n",
    "  FROM tutorial.billboard_top_100_year_end\n",
    " WHERE \"group\" ILIKE '%Ludacris%'"
   ]
  },
  {
   "cell_type": "markdown",
   "metadata": {},
   "source": [
    "### IN"
   ]
  },
  {
   "cell_type": "code",
   "execution_count": null,
   "metadata": {
    "collapsed": true
   },
   "outputs": [],
   "source": [
    "SELECT *\n",
    "  FROM tutorial.billboard_top_100_year_end\n",
    " WHERE year_rank IN (1, 2, 3)"
   ]
  },
  {
   "cell_type": "code",
   "execution_count": null,
   "metadata": {
    "collapsed": true
   },
   "outputs": [],
   "source": [
    "SELECT *\n",
    "  FROM tutorial.billboard_top_100_year_end\n",
    " WHERE artist IN ('Taylor Swift', 'Usher', 'Ludacris')"
   ]
  },
  {
   "cell_type": "code",
   "execution_count": null,
   "metadata": {
    "collapsed": true
   },
   "outputs": [],
   "source": [
    "SELECT *\n",
    "  FROM tutorial.billboard_top_100_year_end\n",
    " WHERE artist IN ('Hammer', 'M.C. Hammer', 'Elvis Presley')"
   ]
  },
  {
   "cell_type": "markdown",
   "metadata": {},
   "source": [
    "### Between"
   ]
  },
  {
   "cell_type": "markdown",
   "metadata": {},
   "source": [
    "### BETWEEN is a logical operator in SQL that allows you to select only rows that are within a specific range. It has to be paired with the AND operator, which you’ll learn about in a later lesson. Here’s what BETWEEN looks like on a Billboard Music Charts dataset:"
   ]
  },
  {
   "cell_type": "code",
   "execution_count": null,
   "metadata": {
    "collapsed": true
   },
   "outputs": [],
   "source": [
    "SELECT *\n",
    "  FROM tutorial.billboard_top_100_year_end\n",
    " WHERE year_rank BETWEEN 5 AND 10"
   ]
  },
  {
   "cell_type": "markdown",
   "metadata": {},
   "source": [
    "BETWEEN includes the range bounds (in this case, 5 and 10) that you specify in the query, in addition to the values between them."
   ]
  },
  {
   "cell_type": "markdown",
   "metadata": {},
   "source": [
    "You can select rows that contain no data in a given column by using \n",
    "### IS NULL. \n"
   ]
  },
  {
   "cell_type": "code",
   "execution_count": null,
   "metadata": {
    "collapsed": true
   },
   "outputs": [],
   "source": [
    "SELECT *\n",
    "  FROM tutorial.billboard_top_100_year_end\n",
    " WHERE song_name IS NULL"
   ]
  },
  {
   "cell_type": "markdown",
   "metadata": {},
   "source": [
    "### AND is a logical operator in SQL that allows you to select only rows that satisfy two conditions."
   ]
  },
  {
   "cell_type": "code",
   "execution_count": null,
   "metadata": {
    "collapsed": true
   },
   "outputs": [],
   "source": [
    "SELECT *\n",
    "  FROM tutorial.billboard_top_100_year_end\n",
    " WHERE year = 2012 AND year_rank <= 10"
   ]
  },
  {
   "cell_type": "code",
   "execution_count": null,
   "metadata": {
    "collapsed": true
   },
   "outputs": [],
   "source": [
    "SELECT *\n",
    "  FROM tutorial.billboard_top_100_year_end\n",
    " WHERE year = 2012\n",
    "   AND year_rank <= 10\n",
    "   AND \"group\" ILIKE '%feat%'"
   ]
  },
  {
   "cell_type": "code",
   "execution_count": null,
   "metadata": {
    "collapsed": true
   },
   "outputs": [],
   "source": [
    "SELECT *\n",
    "  FROM tutorial.billboard_top_100_year_end\n",
    " WHERE \"group\" ILIKE '%Ludacris%'\n",
    "   AND year_rank <= 10\n",
    "   "
   ]
  },
  {
   "cell_type": "code",
   "execution_count": null,
   "metadata": {
    "collapsed": true
   },
   "outputs": [],
   "source": [
    "SELECT *\n",
    "  FROM tutorial.billboard_top_100_year_end\n",
    " WHERE year_rank = 1\n",
    "   AND year IN (1990, 2000, 2010)"
   ]
  },
  {
   "cell_type": "code",
   "execution_count": null,
   "metadata": {
    "collapsed": true
   },
   "outputs": [],
   "source": [
    "SELECT *\n",
    "  FROM tutorial.billboard_top_100_year_end\n",
    " WHERE year BETWEEN 1960 AND 1969\n",
    " AND song_name ILIKE '%love%'\n",
    "   "
   ]
  },
  {
   "cell_type": "markdown",
   "metadata": {},
   "source": [
    "### OR is a logical operator in SQL that allows you to select rows that satisfy either of two conditions"
   ]
  },
  {
   "cell_type": "code",
   "execution_count": null,
   "metadata": {
    "collapsed": true
   },
   "outputs": [],
   "source": [
    "SELECT *\n",
    "  FROM tutorial.billboard_top_100_year_end\n",
    " WHERE year_rank = 5 OR artist = 'Gotye'"
   ]
  },
  {
   "cell_type": "code",
   "execution_count": null,
   "metadata": {
    "collapsed": true
   },
   "outputs": [],
   "source": [
    "SELECT *\n",
    "  FROM tutorial.billboard_top_100_year_end\n",
    " WHERE year = 2013\n",
    "   AND (\"group\" ILIKE '%macklemore%' OR \"group\" ILIKE '%timberlake%')"
   ]
  },
  {
   "cell_type": "markdown",
   "metadata": {},
   "source": [
    "### NOT is a logical operator in SQL that you can put before any conditional statement to select rows for which that statement is false."
   ]
  },
  {
   "cell_type": "code",
   "execution_count": null,
   "metadata": {
    "collapsed": true
   },
   "outputs": [],
   "source": [
    "SELECT *\n",
    "  FROM tutorial.billboard_top_100_year_end\n",
    " WHERE year = 2013\n",
    "   AND year_rank NOT BETWEEN 2 AND 3"
   ]
  },
  {
   "cell_type": "code",
   "execution_count": null,
   "metadata": {
    "collapsed": true
   },
   "outputs": [],
   "source": [
    "SELECT *\n",
    "  FROM tutorial.billboard_top_100_year_end\n",
    " WHERE year = 2013\n",
    "   AND \"group\" NOT ILIKE '%macklemore%'"
   ]
  },
  {
   "cell_type": "markdown",
   "metadata": {},
   "source": [
    "### NOT is also frequently used to identify non-null rows, but the syntax is somewhat special—you need to include IS beforehand. Here’s how that looks:"
   ]
  },
  {
   "cell_type": "code",
   "execution_count": null,
   "metadata": {
    "collapsed": true
   },
   "outputs": [],
   "source": [
    "SELECT *\n",
    "  FROM tutorial.billboard_top_100_year_end\n",
    " WHERE year = 2013\n",
    "   AND artist IS NOT NULL"
   ]
  },
  {
   "cell_type": "markdown",
   "metadata": {},
   "source": [
    "### The ORDER BY clause allows you to reorder your results based on the data in one or more columns. First, take a look at how the table is ordered by default:"
   ]
  },
  {
   "cell_type": "code",
   "execution_count": null,
   "metadata": {
    "collapsed": true
   },
   "outputs": [],
   "source": [
    "SELECT *\n",
    "  FROM tutorial.billboard_top_100_year_end\n",
    " ORDER BY artist"
   ]
  },
  {
   "cell_type": "code",
   "execution_count": null,
   "metadata": {
    "collapsed": true
   },
   "outputs": [],
   "source": [
    "SELECT *\n",
    "  FROM tutorial.billboard_top_100_year_end\n",
    " WHERE year = 2013\n",
    " ORDER BY year_rank"
   ]
  },
  {
   "cell_type": "code",
   "execution_count": null,
   "metadata": {
    "collapsed": true
   },
   "outputs": [],
   "source": [
    "SELECT *\n",
    "  FROM tutorial.billboard_top_100_year_end\n",
    " WHERE year = 2013\n",
    " ORDER BY year_rank DESC"
   ]
  },
  {
   "cell_type": "code",
   "execution_count": null,
   "metadata": {
    "collapsed": true
   },
   "outputs": [],
   "source": [
    "\n",
    "    COUNT counts how many rows are in a particular column.\n",
    "    SUM adds together all the values in a particular column.\n",
    "    MIN and MAX return the lowest and highest values in a particular column, respectively.\n",
    "    AVG calculates the average of a group of selected values.\n"
   ]
  },
  {
   "cell_type": "markdown",
   "metadata": {},
   "source": [
    "### Arithmetic operators only perform operations across rows. Aggregate functions are used to perform operations across entire columns (which could include millions of rows of data or more)."
   ]
  },
  {
   "cell_type": "markdown",
   "metadata": {},
   "source": [
    "### COUNT is a SQL aggregate function for counting the number of rows in a particular column. "
   ]
  },
  {
   "cell_type": "code",
   "execution_count": null,
   "metadata": {
    "collapsed": true
   },
   "outputs": [],
   "source": [
    "SELECT COUNT(*)\n",
    "  FROM tutorial.aapl_historical_stock_price"
   ]
  },
  {
   "cell_type": "code",
   "execution_count": null,
   "metadata": {
    "collapsed": true
   },
   "outputs": [],
   "source": [
    "SELECT COUNT(high)\n",
    "  FROM tutorial.aapl_historical_stock_price"
   ]
  },
  {
   "cell_type": "code",
   "execution_count": null,
   "metadata": {
    "collapsed": true
   },
   "outputs": [],
   "source": [
    "SELECT COUNT(date) AS \"Count Of Date\"\n",
    "  FROM tutorial.aapl_historical_stock_price"
   ]
  },
  {
   "cell_type": "markdown",
   "metadata": {},
   "source": [
    "### SUM is a SQL aggregate function that totals the values in a given column. Unlike COUNT, you can only use SUM on columns containing numerical values.\n",
    "\n",
    "### SUM treats nulls as 0."
   ]
  },
  {
   "cell_type": "code",
   "execution_count": null,
   "metadata": {
    "collapsed": true
   },
   "outputs": [],
   "source": [
    "SELECT SUM(open)/COUNT(open) AS avg_open_price\n",
    "  FROM tutorial.aapl_historical_stock_price"
   ]
  },
  {
   "cell_type": "code",
   "execution_count": null,
   "metadata": {
    "collapsed": true
   },
   "outputs": [],
   "source": [
    "SELECT SUM(volume)\n",
    "  FROM tutorial.aapl_historical_stock_price"
   ]
  },
  {
   "cell_type": "markdown",
   "metadata": {},
   "source": [
    "### MIN and MAX are SQL aggregation functions that return the lowest and highest values in a particular column."
   ]
  },
  {
   "cell_type": "code",
   "execution_count": null,
   "metadata": {
    "collapsed": true
   },
   "outputs": [],
   "source": [
    "SELECT MIN(volume) AS min_volume,\n",
    "       MAX(volume) AS max_volume\n",
    "  FROM tutorial.aapl_historical_stock_price"
   ]
  },
  {
   "cell_type": "markdown",
   "metadata": {},
   "source": [
    "### AVG is a SQL aggregate function that calculates the average of a selected group of values. It’s very useful, but has some limitations. First, it can only be used on numerical columns. Second, it ignores nulls completely. "
   ]
  },
  {
   "cell_type": "code",
   "execution_count": null,
   "metadata": {
    "collapsed": true
   },
   "outputs": [],
   "source": [
    "SELECT AVG(high)\n",
    "  FROM tutorial.aapl_historical_stock_price\n",
    " WHERE high IS NOT NULL"
   ]
  },
  {
   "cell_type": "code",
   "execution_count": null,
   "metadata": {
    "collapsed": true
   },
   "outputs": [],
   "source": [
    "SELECT AVG(high)\n",
    "  FROM tutorial.aapl_historical_stock_price"
   ]
  },
  {
   "cell_type": "code",
   "execution_count": null,
   "metadata": {
    "collapsed": true
   },
   "outputs": [],
   "source": [
    "SELECT AVG(volume) AS avg_volume\n",
    "  FROM tutorial.aapl_historical_stock_price"
   ]
  },
  {
   "cell_type": "markdown",
   "metadata": {},
   "source": [
    "### GROUP BY allows you to separate data into groups, which can be aggregated independently of one another. "
   ]
  },
  {
   "cell_type": "code",
   "execution_count": null,
   "metadata": {
    "collapsed": true
   },
   "outputs": [],
   "source": [
    "SELECT year,\n",
    "       COUNT(*) AS count\n",
    "  FROM tutorial.aapl_historical_stock_price\n",
    " GROUP BY year"
   ]
  },
  {
   "cell_type": "code",
   "execution_count": null,
   "metadata": {
    "collapsed": true
   },
   "outputs": [],
   "source": [
    "SELECT year,\n",
    "       month,\n",
    "       COUNT(*) AS count\n",
    "  FROM tutorial.aapl_historical_stock_price\n",
    " GROUP BY year, month"
   ]
  },
  {
   "cell_type": "code",
   "execution_count": null,
   "metadata": {
    "collapsed": true
   },
   "outputs": [],
   "source": [
    "SELECT year,\n",
    "       month,\n",
    "       sum(volume)\n",
    "FROM tutorial.aapl_historical_stock_price\n",
    "GROUP BY year, month\n",
    "ORDER BY year, month"
   ]
  },
  {
   "cell_type": "code",
   "execution_count": null,
   "metadata": {
    "collapsed": true
   },
   "outputs": [],
   "source": [
    "SELECT year,\n",
    "       AVG(close - open) AS avg_daily_change\n",
    "  FROM tutorial.aapl_historical_stock_price\n",
    " GROUP BY 1\n",
    " ORDER BY 1"
   ]
  },
  {
   "cell_type": "code",
   "execution_count": null,
   "metadata": {
    "collapsed": true
   },
   "outputs": [],
   "source": [
    "SELECT year,\n",
    "       month,\n",
    "       MIN(low) AS lowest_price,\n",
    "       MAX(high) AS highest_price\n",
    "  FROM tutorial.aapl_historical_stock_price\n",
    " GROUP BY 1, 2\n",
    " ORDER BY 1, 2"
   ]
  },
  {
   "cell_type": "markdown",
   "metadata": {},
   "source": [
    "### The WHERE clause won’t work for this because it doesn’t allow you to filter on aggregate columns—that’s where the HAVING clause comes in:"
   ]
  },
  {
   "cell_type": "code",
   "execution_count": null,
   "metadata": {
    "collapsed": true
   },
   "outputs": [],
   "source": [
    "SELECT year,\n",
    "       month,\n",
    "       MAX(high) AS month_high\n",
    "  FROM tutorial.aapl_historical_stock_price\n",
    " GROUP BY year, month\n",
    "HAVING MAX(high) > 400\n",
    " ORDER BY year, month"
   ]
  },
  {
   "cell_type": "code",
   "execution_count": null,
   "metadata": {
    "collapsed": true
   },
   "outputs": [],
   "source": [
    "\n",
    "    SELECT\n",
    "    FROM\n",
    "    WHERE\n",
    "    GROUP BY\n",
    "    HAVING\n",
    "    ORDER BY\n"
   ]
  },
  {
   "cell_type": "markdown",
   "metadata": {},
   "source": [
    "### You’ll occasionally want to look at only the unique values in a particular column. You can do this using SELECT DISTINCT syntax. "
   ]
  },
  {
   "cell_type": "code",
   "execution_count": null,
   "metadata": {
    "collapsed": true
   },
   "outputs": [],
   "source": [
    "SELECT DISTINCT month\n",
    "  FROM tutorial.aapl_historical_stock_price"
   ]
  },
  {
   "cell_type": "code",
   "execution_count": null,
   "metadata": {
    "collapsed": true
   },
   "outputs": [],
   "source": [
    "SELECT DISTINCT year, month\n",
    "  FROM tutorial.aapl_historical_stock_price"
   ]
  },
  {
   "cell_type": "code",
   "execution_count": null,
   "metadata": {
    "collapsed": true
   },
   "outputs": [],
   "source": [
    "SELECT COUNT(DISTINCT month) AS unique_months\n",
    "  FROM tutorial.aapl_historical_stock_price"
   ]
  },
  {
   "cell_type": "code",
   "execution_count": null,
   "metadata": {
    "collapsed": true
   },
   "outputs": [],
   "source": [
    "SELECT month,\n",
    "       AVG(volume) AS avg_trade_volume\n",
    "  FROM tutorial.aapl_historical_stock_price\n",
    " GROUP BY month\n",
    " ORDER BY 2 DESC"
   ]
  },
  {
   "cell_type": "markdown",
   "metadata": {},
   "source": [
    "### You’ll notice that DISTINCT goes inside the aggregate function rather than at the beginning of the SELECT clause."
   ]
  },
  {
   "cell_type": "markdown",
   "metadata": {},
   "source": [
    "### The CASE statement is SQL’s way of handling if/then logic. The CASE statement is followed by at least one pair of WHEN and THEN statements—SQL’s equivalent of IF/THEN in Excel. It must end with the END statement. The ELSE statement is optional, and provides a way to capture values not specified in the WHEN/THEN statements. CASE is easiest to understand in the context of an example:"
   ]
  },
  {
   "cell_type": "code",
   "execution_count": null,
   "metadata": {
    "collapsed": true
   },
   "outputs": [],
   "source": [
    "SELECT player_name,\n",
    "       year,\n",
    "       CASE WHEN year = 'SR' THEN 'yes'\n",
    "            ELSE NULL END AS is_a_senior\n",
    "  FROM benn.college_football_players"
   ]
  },
  {
   "cell_type": "markdown",
   "metadata": {},
   "source": [
    "\n",
    "    1. The CASE statement checks each row to see if the conditional statement—year = 'SR' is true.\n",
    "    \n",
    "    2. For any given row, if that conditional statement is true, the word “yes” gets printed in the column that we have named is_a_senior.\n",
    "    \n",
    "    3. In any row for which the conditional statement is false, nothing happens in that row, leaving a null value in the is_a_senior column.\n",
    "    \n",
    "    4. At the same time all this is happening, SQL is retrieving and displaying all the values in the player_name and year columns.\n"
   ]
  },
  {
   "cell_type": "code",
   "execution_count": null,
   "metadata": {
    "collapsed": true
   },
   "outputs": [],
   "source": [
    "SELECT player_name,\n",
    "       year,\n",
    "       CASE WHEN year = 'SR' THEN 'yes'\n",
    "            ELSE 'no' END AS is_a_senior\n",
    "  FROM benn.college_football_players"
   ]
  },
  {
   "cell_type": "code",
   "execution_count": null,
   "metadata": {
    "collapsed": true
   },
   "outputs": [],
   "source": [
    "SELECT player_name,\n",
    "       weight,\n",
    "       CASE WHEN weight > 250 THEN 'over 250'\n",
    "            WHEN weight > 200 AND weight <= 250 THEN '201-250'\n",
    "            WHEN weight > 175 AND weight <= 200 THEN '176-200'\n",
    "            ELSE '175 or under' END AS weight_group\n",
    "  FROM benn.college_football_players"
   ]
  },
  {
   "cell_type": "code",
   "execution_count": null,
   "metadata": {
    "collapsed": true
   },
   "outputs": [],
   "source": [
    "SELECT player_name,\n",
    "       CASE WHEN year = 'FR' AND position = 'WR' THEN 'frosh_wr'\n",
    "            ELSE NULL END AS sample_case_statement\n",
    "  FROM benn.college_football_players"
   ]
  },
  {
   "cell_type": "markdown",
   "metadata": {},
   "source": [
    "\n",
    "    1. The CASE statement always goes in the SELECT clause\n",
    "    \n",
    "    2. CASE must include the following components: WHEN, THEN, and END. ELSE is an optional component.\n",
    "    \n",
    "    3. You can make any conditional statement using any conditional operator (like WHERE) between WHEN and THEN. This includes stringing together multiple conditional statements using AND and OR.\n",
    "    \n",
    "    4. You can include multiple WHEN statements, as well as an ELSE statement to deal with any unaddressed conditions.\n"
   ]
  },
  {
   "cell_type": "code",
   "execution_count": null,
   "metadata": {
    "collapsed": true
   },
   "outputs": [],
   "source": [
    "SELECT player_name,\n",
    "       height,\n",
    "       CASE WHEN height > 74 THEN 'over 74'\n",
    "            WHEN height > 72 AND height <= 74 THEN '73-74'\n",
    "            WHEN height > 70 AND height <= 72 THEN '71-72'\n",
    "            ELSE 'under 70' END AS height_group\n",
    "  FROM benn.college_football_players"
   ]
  },
  {
   "cell_type": "code",
   "execution_count": null,
   "metadata": {
    "collapsed": true
   },
   "outputs": [],
   "source": [
    "SELECT CASE WHEN year = 'FR' THEN 'FR'\n",
    "            ELSE 'Not FR' END AS year_group,\n",
    "            COUNT(1) AS count\n",
    "  FROM benn.college_football_players\n",
    " GROUP BY CASE WHEN year = 'FR' THEN 'FR'\n",
    "               ELSE 'Not FR' END"
   ]
  },
  {
   "cell_type": "markdown",
   "metadata": {},
   "source": [
    "### The above query will display:"
   ]
  },
  {
   "cell_type": "code",
   "execution_count": 2,
   "metadata": {
    "collapsed": false
   },
   "outputs": [
    {
     "data": {
      "image/png": "[encoded data removed]",
      "text/plain": [
       "<IPython.core.display.Image object>"
      ]
     },
     "execution_count": 2,
     "metadata": {},
     "output_type": "execute_result"
    }
   ],
   "source": [
    "from IPython.display import Image\n",
    "Image(\"capture1.png\")"
   ]
  },
  {
   "cell_type": "code",
   "execution_count": null,
   "metadata": {
    "collapsed": true
   },
   "outputs": [],
   "source": [
    "SELECT CASE WHEN year = 'FR' THEN 'FR'\n",
    "            WHEN year = 'SO' THEN 'SO'\n",
    "            WHEN year = 'JR' THEN 'JR'\n",
    "            WHEN year = 'SR' THEN 'SR'\n",
    "            ELSE 'No Year Data' END AS year_group,\n",
    "            COUNT(1) AS count\n",
    "  FROM benn.college_football_players\n",
    " GROUP BY 1"
   ]
  },
  {
   "cell_type": "code",
   "execution_count": null,
   "metadata": {
    "collapsed": true
   },
   "outputs": [],
   "source": [
    "# pivot the above\n",
    "\n",
    "SELECT COUNT(CASE WHEN year = 'FR' THEN 1 ELSE NULL END) AS fr_count,\n",
    "       COUNT(CASE WHEN year = 'SO' THEN 1 ELSE NULL END) AS so_count,\n",
    "       COUNT(CASE WHEN year = 'JR' THEN 1 ELSE NULL END) AS jr_count,\n",
    "       COUNT(CASE WHEN year = 'SR' THEN 1 ELSE NULL END) AS sr_count\n",
    "  FROM benn.college_football_players"
   ]
  },
  {
   "cell_type": "code",
   "execution_count": null,
   "metadata": {
    "collapsed": true
   },
   "outputs": [],
   "source": [
    "SELECT teams.conference AS conference,\n",
    "       AVG(players.weight) AS average_weight\n",
    "  FROM benn.college_football_players players\n",
    "  JOIN benn.college_football_teams teams\n",
    "    ON teams.school_name = players.school_name\n",
    " GROUP BY teams.conference\n",
    " ORDER BY AVG(players.weight) DESC"
   ]
  },
  {
   "cell_type": "markdown",
   "metadata": {},
   "source": [
    "### The anatomy of a join"
   ]
  },
  {
   "cell_type": "code",
   "execution_count": null,
   "metadata": {
    "collapsed": true
   },
   "outputs": [],
   "source": [
    "SELECT teams.conference AS conference,\n",
    "       AVG(players.weight) AS average_weight\n",
    "  FROM benn.college_football_players players\n",
    "  JOIN benn.college_football_teams teams\n",
    "    ON teams.school_name = players.school_name\n",
    " GROUP BY teams.conference\n",
    " ORDER BY AVG(players.weight) DESC"
   ]
  },
  {
   "cell_type": "markdown",
   "metadata": {},
   "source": [
    "### You can give a table an alias by adding a space after the table name and typing the intended name of the alias. As with column names, best practice here is to use all lowercase letters and underscores instead of spaces."
   ]
  },
  {
   "cell_type": "markdown",
   "metadata": {},
   "source": [
    "### Inner Join\n",
    "\n",
    "### If there are multiple schools in the teams table with the same name, each one of those rows will get joined to matching rows in the players table. Returning to the previous example with Michael Campanaro, if there were three rows in the teams table where school_name = 'Wake Forest', the join query above would return three rows with Michael Campanaro.\n",
    "\n",
    "### Inner joins eliminate rows from both tables that do not satisfy the join condition set forth in the ON statement. "
   ]
  },
  {
   "cell_type": "markdown",
   "metadata": {},
   "source": [
    "### Joining tables with identical column names"
   ]
  },
  {
   "cell_type": "code",
   "execution_count": null,
   "metadata": {
    "collapsed": true
   },
   "outputs": [],
   "source": [
    "SELECT players.*,\n",
    "       teams.*\n",
    "  FROM benn.college_football_players players\n",
    "  JOIN benn.college_football_teams teams\n",
    "    ON teams.school_name = players.school_name"
   ]
  },
  {
   "cell_type": "markdown",
   "metadata": {},
   "source": [
    "### Outer Joins\n",
    "\n",
    "### When performing an inner join, rows from either table that are unmatched in the other table are not returned. In an outer join, unmatched rows in one or both tables can be returned. There are a few types of outer joins:\n",
    "\n",
    "    LEFT JOIN returns only unmatched rows from the left table.\n",
    "    RIGHT JOIN returns only unmatched rows from the right table.\n",
    "    FULL OUTER JOIN returns unmatched rows from both tables.\n"
   ]
  },
  {
   "cell_type": "code",
   "execution_count": 3,
   "metadata": {
    "collapsed": false
   },
   "outputs": [
    {
     "data": {
      "image/png": "[encoded data removed]",
      "text/plain": [
       "<IPython.core.display.Image object>"
      ]
     },
     "execution_count": 3,
     "metadata": {},
     "output_type": "execute_result"
    }
   ],
   "source": [
    "Image(\"capture2.png\")"
   ]
  },
  {
   "cell_type": "markdown",
   "metadata": {},
   "source": [
    "### Left Join"
   ]
  },
  {
   "cell_type": "code",
   "execution_count": null,
   "metadata": {
    "collapsed": true
   },
   "outputs": [],
   "source": [
    "SELECT companies.permalink AS companies_permalink,\n",
    "       companies.name AS companies_name,\n",
    "       acquisitions.company_permalink AS acquisitions_permalink,\n",
    "       acquisitions.acquired_at AS acquired_date\n",
    "  FROM tutorial.crunchbase_companies companies\n",
    "  LEFT JOIN tutorial.crunchbase_acquisitions acquisitions\n",
    "    ON companies.permalink = acquisitions.company_permalink"
   ]
  },
  {
   "cell_type": "markdown",
   "metadata": {},
   "source": [
    "### The LEFT JOIN command tells the database to return all rows in the table in the FROM clause, regardless of whether or not they have matches in the table in the LEFT JOIN clause."
   ]
  },
  {
   "cell_type": "code",
   "execution_count": null,
   "metadata": {
    "collapsed": true
   },
   "outputs": [],
   "source": [
    "SELECT COUNT(companies.permalink) AS companies_rowcount,\n",
    "       COUNT(acquisitions.company_permalink) AS acquisitions_rowcount\n",
    "  FROM tutorial.crunchbase_companies companies\n",
    "  JOIN tutorial.crunchbase_acquisitions acquisitions\n",
    "    ON companies.permalink = acquisitions.company_permalink"
   ]
  },
  {
   "cell_type": "markdown",
   "metadata": {},
   "source": [
    "### Count the number of unique companies (don't double-count companies) and unique acquired companies by state. Do not include results for which there is no state data, and order by the number of acquired companies from highest to lowest. "
   ]
  },
  {
   "cell_type": "code",
   "execution_count": null,
   "metadata": {
    "collapsed": true
   },
   "outputs": [],
   "source": [
    "SELECT companies.state_code,\n",
    "       COUNT(DISTINCT companies.permalink) AS unique_companies,\n",
    "       COUNT(DISTINCT acquisitions.company_permalink) AS unique_companies_acquired\n",
    "  FROM tutorial.crunchbase_companies companies\n",
    "  LEFT JOIN tutorial.crunchbase_acquisitions acquisitions\n",
    "    ON companies.permalink = acquisitions.company_permalink\n",
    " WHERE companies.state_code IS NOT NULL\n",
    " GROUP BY 1\n",
    " ORDER BY 3 DESC"
   ]
  },
  {
   "cell_type": "markdown",
   "metadata": {},
   "source": [
    "### Right joins are similar to left joins except they return all rows from the table in the RIGHT JOIN clause and only matching rows from the table in the FROM clause."
   ]
  },
  {
   "cell_type": "markdown",
   "metadata": {},
   "source": [
    "### RIGHT JOIN is rarely used because you can achieve the results of a RIGHT JOIN by simply switching the two joined table names in a LEFT JOIN. For example, in this query of the "
   ]
  },
  {
   "cell_type": "markdown",
   "metadata": {},
   "source": [
    "### Filtering in the ON clause\n",
    "\n",
    "### Normally, filtering is processed in the WHERE clause once the two tables have already been joined. It’s possible, though that you might want to filter one or both of the tables before joining them. For example, you only want to create matches between the tables under certain circumstances."
   ]
  },
  {
   "cell_type": "code",
   "execution_count": null,
   "metadata": {
    "collapsed": true
   },
   "outputs": [],
   "source": [
    "SELECT companies.permalink AS companies_permalink,\n",
    "       companies.name AS companies_name,\n",
    "       acquisitions.company_permalink AS acquisitions_permalink,\n",
    "       acquisitions.acquired_at AS acquired_date\n",
    "  FROM tutorial.crunchbase_companies companies\n",
    "  LEFT JOIN tutorial.crunchbase_acquisitions acquisitions\n",
    "    ON companies.permalink = acquisitions.company_permalink\n",
    "   AND acquisitions.company_permalink != '/company/1000memories'\n",
    " ORDER BY 1"
   ]
  },
  {
   "cell_type": "markdown",
   "metadata": {},
   "source": [
    "### Filtering in the WHERE clause\n",
    "\n",
    "### If you move the same filter to the WHERE clause, you will notice that the filter happens after the tables are joined. The result is that the 1000memories row is joined onto the original table, but then it is filtered out entirely (in both tables) in the WHERE clause before displaying results."
   ]
  },
  {
   "cell_type": "code",
   "execution_count": null,
   "metadata": {
    "collapsed": true
   },
   "outputs": [],
   "source": [
    "SELECT companies.permalink AS companies_permalink,\n",
    "       companies.name AS companies_name,\n",
    "       acquisitions.company_permalink AS acquisitions_permalink,\n",
    "       acquisitions.acquired_at AS acquired_date\n",
    "  FROM tutorial.crunchbase_companies companies\n",
    "  LEFT JOIN tutorial.crunchbase_acquisitions acquisitions\n",
    "    ON companies.permalink = acquisitions.company_permalink\n",
    " WHERE acquisitions.company_permalink != '/company/1000memories'\n",
    "    OR acquisitions.company_permalink IS NULL\n",
    " ORDER BY 1"
   ]
  },
  {
   "cell_type": "markdown",
   "metadata": {},
   "source": [
    "### The SQL UNION operator\n",
    "\n",
    "### SQL joins allow you to combine two datasets side-by-side, but UNION allows you to stack one dataset on top of the other. Put differently, UNION allows you to write two separate SELECT statements, and to have the results of one statement display in the same table as the results from the other statement."
   ]
  },
  {
   "cell_type": "markdown",
   "metadata": {},
   "source": [
    "### Note that UNION only appends distinct values. More specifically, when you use UNION, the dataset is appended, and any rows in the appended table that are exactly identical to rows in the first table are dropped. If you’d like to append all the values from the second table, use UNION ALL. You’ll likely use UNION ALL far more often than UNION. In this particular case, there are no duplicate rows, so UNION ALL will produce the same results:"
   ]
  },
  {
   "cell_type": "code",
   "execution_count": null,
   "metadata": {
    "collapsed": true
   },
   "outputs": [],
   "source": [
    "SELECT *\n",
    "  FROM tutorial.crunchbase_investments_part1\n",
    "\n",
    " UNION\n",
    "\n",
    " SELECT *\n",
    "   FROM tutorial.crunchbase_investments_part2"
   ]
  },
  {
   "cell_type": "markdown",
   "metadata": {},
   "source": [
    "### SQL has strict rules for appending data:\n",
    "\n",
    "    Both tables must have the same number of columns\n",
    "    The columns must have the same data types in the same order as the first table\n"
   ]
  },
  {
   "cell_type": "markdown",
   "metadata": {},
   "source": [
    "### Using comparison operators with joins\n",
    "\n",
    "### In the lessons so far, you’ve only joined tables by exactly matching values from both tables. However, you can enter any type of conditional statement into the ON clause. Here’s an example using > to join only investments that occurred more than 5 years after each company’s founding year:"
   ]
  },
  {
   "cell_type": "code",
   "execution_count": null,
   "metadata": {
    "collapsed": true
   },
   "outputs": [],
   "source": [
    "SELECT companies.permalink,\n",
    "       companies.name,\n",
    "       companies.status,\n",
    "       COUNT(investments.investor_permalink) AS investors\n",
    "  FROM tutorial.crunchbase_companies companies\n",
    "  LEFT JOIN tutorial.crunchbase_investments_part1 investments\n",
    "    ON companies.permalink = investments.company_permalink\n",
    "   AND investments.funded_year > companies.founded_year + 5\n",
    " GROUP BY 1,2, 3"
   ]
  },
  {
   "cell_type": "markdown",
   "metadata": {},
   "source": [
    "### Self joining tables\n",
    "\n",
    "### Sometimes it can be useful to join a table to itself. Let’s say you wanted to identify companies that received an investment from Great Britain following an investment from Japan."
   ]
  },
  {
   "cell_type": "code",
   "execution_count": null,
   "metadata": {
    "collapsed": true
   },
   "outputs": [],
   "source": [
    "SELECT DISTINCT japan_investments.company_name,\n",
    "       japan_investments.company_permalink\n",
    "  FROM tutorial.crunchbase_investments_part1 japan_investments\n",
    "  JOIN tutorial.crunchbase_investments_part1 gb_investments\n",
    "    ON japan_investments.company_name = gb_investments.company_name\n",
    "   AND gb_investments.investor_country_code = 'GBR'\n",
    "   AND gb_investments.funded_at > japan_investments.funded_at\n",
    " WHERE japan_investments.investor_country_code = 'JPN'\n",
    " ORDER BY 1"
   ]
  },
  {
   "cell_type": "code",
   "execution_count": null,
   "metadata": {
    "collapsed": true
   },
   "outputs": [],
   "source": []
  },
  {
   "cell_type": "code",
   "execution_count": null,
   "metadata": {
    "collapsed": true
   },
   "outputs": [],
   "source": []
  },
  {
   "cell_type": "code",
   "execution_count": null,
   "metadata": {
    "collapsed": true
   },
   "outputs": [],
   "source": []
  }
 ],
 "metadata": {
  "anaconda-cloud": {},
  "kernelspec": {
   "display_name": "Python [conda env:py35]",
   "language": "python",
   "name": "conda-env-py35-py"
  },
  "language_info": {
   "codemirror_mode": {
    "name": "ipython",
    "version": 3
   },
   "file_extension": ".py",
   "mimetype": "text/x-python",
   "name": "python",
   "nbconvert_exporter": "python",
   "pygments_lexer": "ipython3",
   "version": "3.5.2"
  }
 },
 "nbformat": 4,
 "nbformat_minor": 1
}
